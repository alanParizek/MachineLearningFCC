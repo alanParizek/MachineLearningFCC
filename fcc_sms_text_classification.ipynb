{
  "cells": [
    {
      "cell_type": "code",
      "execution_count": null,
      "metadata": {
        "id": "8RZOuS9LWQvv",
        "collapsed": true
      },
      "outputs": [],
      "source": [
        "# import libraries\n",
        "try:\n",
        "  # %tensorflow_version only exists in Colab.\n",
        "  !pip install tf-nightly\n",
        "except Exception:\n",
        "  pass\n",
        "import tensorflow as tf\n",
        "import pandas as pd\n",
        "from tensorflow import keras\n",
        "!pip install tensorflow-datasets\n",
        "import tensorflow_datasets as tfds\n",
        "import numpy as np\n",
        "import matplotlib.pyplot as plt\n",
        "\n",
        "print(tf.__version__)"
      ]
    },
    {
      "cell_type": "code",
      "source": [
        "import csv\n",
        "from sklearn.utils import class_weight\n",
        "import re"
      ],
      "metadata": {
        "id": "aETCXsli0Zhy"
      },
      "execution_count": null,
      "outputs": []
    },
    {
      "cell_type": "code",
      "execution_count": null,
      "metadata": {
        "id": "lMHwYXHXCar3",
        "collapsed": true
      },
      "outputs": [],
      "source": [
        "# get data files\n",
        "!wget https://cdn.freecodecamp.org/project-data/sms/train-data.tsv\n",
        "!wget https://cdn.freecodecamp.org/project-data/sms/valid-data.tsv\n",
        "\n",
        "train_file_path = \"train-data.tsv\"\n",
        "test_file_path = \"valid-data.tsv\""
      ]
    },
    {
      "cell_type": "code",
      "execution_count": null,
      "metadata": {
        "id": "g_h508FEClxO",
        "collapsed": true
      },
      "outputs": [],
      "source": [
        "# Load data\n",
        "train_ds = pd.read_csv('train-data.tsv', sep='\\t', header=None)\n",
        "test_ds = pd.read_csv('valid-data.tsv', sep='\\t', header=None)\n",
        "\n",
        "train_ds.columns = ['type', 'message']\n",
        "test_ds.columns = ['type', 'message']\n",
        "\n",
        "train_ds['type'] = pd.Categorical(train_ds['type'])\n",
        "test_ds['type'] = pd.Categorical(test_ds['type'])\n",
        "\n",
        "# Convert labels to numeric\n",
        "train_labels = train_ds.type.cat.codes\n",
        "train_ds.pop('type')\n",
        "\n",
        "test_labels = test_ds.type.cat.codes\n",
        "test_ds.pop('type')\n",
        "\n",
        "# Define the cleaning function\n",
        "def clean_text(text):\n",
        "    text = text.lower()\n",
        "    text = re.sub(r'\\d+', 'number', text)            # Replace numbers\n",
        "    text = re.sub(r'[^\\w\\s]', '', text)              # Remove punctuation\n",
        "    text = re.sub(r'\\s+', ' ', text).strip()         # Remove extra spaces\n",
        "    return text\n",
        "\n",
        "# Apply cleaning function to the message columns\n",
        "train_ds['message'] = train_ds['message'].astype(str).apply(clean_text)\n",
        "test_ds['message'] = test_ds['message'].astype(str).apply(clean_text)\n",
        "\n"
      ]
    },
    {
      "cell_type": "code",
      "execution_count": null,
      "metadata": {
        "id": "zOMKywn4zReN"
      },
      "outputs": [],
      "source": [
        "#counting how many individual words are in the dataset\n",
        "\n",
        "# Combine all text in the 'message' column into one long string\n",
        "all_text = ' '.join(train_ds['message'].dropna().astype(str))\n",
        "\n",
        "# Split into words and count unique ones\n",
        "word_list = all_text.split()\n",
        "unique_words = set(word_list)\n",
        "num_unique_words = len(unique_words)\n",
        "\n",
        "print(\"Number of unique words:\", num_unique_words)"
      ]
    },
    {
      "cell_type": "code",
      "source": [
        "#encoding messages into floats\n",
        "\n",
        "vectorizer = keras.layers.TextVectorization(\n",
        "    max_tokens=num_unique_words,\n",
        "    output_sequence_length=30\n",
        ")\n",
        "\n",
        "# Adapt using the message column as a list/array of strings\n",
        "vectorizer.adapt(train_ds['message'].values)\n",
        "\n",
        "# Vectorize only the text part\n",
        "train_vectorized = vectorizer(tf.convert_to_tensor(train_ds['message'].values))\n",
        "test_vectorized = vectorizer(tf.convert_to_tensor(test_ds['message'].values))\n"
      ],
      "metadata": {
        "id": "MGGZnLjg0fRX"
      },
      "execution_count": null,
      "outputs": []
    },
    {
      "cell_type": "code",
      "source": [
        "#building\n",
        "model = tf.keras.Sequential([\n",
        "    tf.keras.layers.Embedding(num_unique_words, 64),\n",
        "    tf.keras.layers.Bidirectional(tf.keras.layers.LSTM(64, return_sequences=True)),\n",
        "    tf.keras.layers.GlobalAveragePooling1D(),\n",
        "    tf.keras.layers.Dropout(0.5),\n",
        "    tf.keras.layers.Dense(64, activation=\"relu\"),\n",
        "    tf.keras.layers.Dropout(0.5),\n",
        "    tf.keras.layers.Dense(1, activation=\"sigmoid\")\n",
        "])"
      ],
      "metadata": {
        "id": "kyMB_-Uj0iu0"
      },
      "execution_count": null,
      "outputs": []
    },
    {
      "cell_type": "code",
      "source": [
        "model.summary()"
      ],
      "metadata": {
        "id": "JIbMOd-X0j25"
      },
      "execution_count": null,
      "outputs": []
    },
    {
      "cell_type": "code",
      "source": [
        "#training\n",
        "model.compile(loss=\"binary_crossentropy\",optimizer=\"rmsprop\",metrics=['acc'])\n",
        "\n",
        "history = model.fit(train_vectorized, train_labels, epochs=10, validation_split=0.2)"
      ],
      "metadata": {
        "id": "m1f8wlZa0lR1"
      },
      "execution_count": null,
      "outputs": []
    },
    {
      "cell_type": "code",
      "source": [
        "#testing\n",
        "\n",
        "results = model.evaluate(test_vectorized, test_labels)\n",
        "print(results)"
      ],
      "metadata": {
        "id": "U0_CaDwz0lka"
      },
      "execution_count": null,
      "outputs": []
    },
    {
      "cell_type": "code",
      "execution_count": null,
      "metadata": {
        "id": "J9tD9yACG6M9"
      },
      "outputs": [],
      "source": [
        "# function to predict messages based on model\n",
        "# (should return list containing prediction and label, ex. [0.008318834938108921, 'ham'])\n",
        "def predict_message(pred_text):\n",
        "    pred_text_vectorized = vectorizer(tf.constant([pred_text]))\n",
        "\n",
        "    numeric = model.predict(pred_text_vectorized)[0][0]\n",
        "    label = 'spam' if numeric > 0.5 else 'ham'\n",
        "\n",
        "    prediction = (numeric, label)\n",
        "    return (prediction)\n",
        "\n",
        "pred_text = \"sale today! to stop texts call 98912460324\"\n",
        "\n",
        "prediction = predict_message(pred_text)\n",
        "print(prediction)"
      ]
    },
    {
      "cell_type": "code",
      "source": [
        "print(vectorizer(\"sale today! to stop texts call 98912460324\"))"
      ],
      "metadata": {
        "id": "shJyoWwsL30_"
      },
      "execution_count": null,
      "outputs": []
    },
    {
      "cell_type": "code",
      "execution_count": null,
      "metadata": {
        "id": "Dxotov85SjsC"
      },
      "outputs": [],
      "source": [
        "# Run this cell to test your function and model. Do not modify contents.\n",
        "def test_predictions():\n",
        "  test_messages = [\"how are you doing today\",\n",
        "                   \"sale today! to stop texts call 98912460324\",\n",
        "                   \"i dont want to go. can we try it a different day? available sat\",\n",
        "                   \"our new mobile video service is live. just install on your phone to start watching.\",\n",
        "                   \"you have won £1000 cash! call to claim your prize.\",\n",
        "                   \"i'll bring it tomorrow. don't forget the milk.\",\n",
        "                   \"wow, is your arm alright. that happened to me one time too\"\n",
        "                  ]\n",
        "\n",
        "  test_answers = [\"ham\", \"spam\", \"ham\", \"spam\", \"spam\", \"ham\", \"ham\"]\n",
        "  passed = True\n",
        "\n",
        "  for msg, ans in zip(test_messages, test_answers):\n",
        "    prediction = predict_message(msg)\n",
        "    if prediction[1] != ans:\n",
        "      print(msg)\n",
        "      passed = False\n",
        "\n",
        "  if passed:\n",
        "    print(\"You passed the challenge. Great job!\")\n",
        "  else:\n",
        "    print(\"You haven't passed yet. Keep trying.\")\n",
        "\n",
        "test_predictions()\n"
      ]
    }
  ],
  "metadata": {
    "colab": {
      "private_outputs": true,
      "provenance": [],
      "toc_visible": true
    },
    "kernelspec": {
      "display_name": "Python 3",
      "name": "python3"
    },
    "language_info": {}
  },
  "nbformat": 4,
  "nbformat_minor": 0
}